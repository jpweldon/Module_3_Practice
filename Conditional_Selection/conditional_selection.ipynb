{
 "cells": [
  {
   "cell_type": "code",
   "execution_count": 1,
   "id": "3e4a7364-e368-47c6-958a-b38795fae113",
   "metadata": {},
   "outputs": [
    {
     "data": {
      "text/html": [
       "<div>\n",
       "<style scoped>\n",
       "    .dataframe tbody tr th:only-of-type {\n",
       "        vertical-align: middle;\n",
       "    }\n",
       "\n",
       "    .dataframe tbody tr th {\n",
       "        vertical-align: top;\n",
       "    }\n",
       "\n",
       "    .dataframe thead th {\n",
       "        text-align: right;\n",
       "    }\n",
       "</style>\n",
       "<table border=\"1\" class=\"dataframe\">\n",
       "  <thead>\n",
       "    <tr style=\"text-align: right;\">\n",
       "      <th></th>\n",
       "      <th>AAPL</th>\n",
       "      <th>MSFT</th>\n",
       "    </tr>\n",
       "  </thead>\n",
       "  <tbody>\n",
       "    <tr>\n",
       "      <th>0</th>\n",
       "      <td>0.517803</td>\n",
       "      <td>-0.996886</td>\n",
       "    </tr>\n",
       "    <tr>\n",
       "      <th>1</th>\n",
       "      <td>-0.069032</td>\n",
       "      <td>-2.387928</td>\n",
       "    </tr>\n",
       "    <tr>\n",
       "      <th>2</th>\n",
       "      <td>1.266795</td>\n",
       "      <td>0.369474</td>\n",
       "    </tr>\n",
       "    <tr>\n",
       "      <th>3</th>\n",
       "      <td>0.977330</td>\n",
       "      <td>0.765379</td>\n",
       "    </tr>\n",
       "    <tr>\n",
       "      <th>4</th>\n",
       "      <td>-0.673813</td>\n",
       "      <td>-2.394932</td>\n",
       "    </tr>\n",
       "  </tbody>\n",
       "</table>\n",
       "</div>"
      ],
      "text/plain": [
       "       AAPL      MSFT\n",
       "0  0.517803 -0.996886\n",
       "1 -0.069032 -2.387928\n",
       "2  1.266795  0.369474\n",
       "3  0.977330  0.765379\n",
       "4 -0.673813 -2.394932"
      ]
     },
     "execution_count": 1,
     "metadata": {},
     "output_type": "execute_result"
    }
   ],
   "source": [
    "# Import the Pandas library\n",
    "import pandas as pd\n",
    "\n",
    "# Import the numpy library\n",
    "import numpy as np\n",
    "\n",
    "# Create the daily_returns DataFrame\n",
    "daily_returns = pd.DataFrame({\n",
    "    'AAPL': np.random.randn(5),\n",
    "    'GOOG': np.random.randn(5),\n",
    "    'MSFT': np.random.randn(5),\n",
    "})\n",
    "daily_returns\n",
    "# Construct the Boolean filter so that the code eliminates GOOG from the DataFrame\n",
    "boolean_filter = [True, False, True]\n",
    "\n",
    "# Display the daily_returns DataFrame filtering using the boolean_filter so the code eliminates GOOG from the DataFrame\n",
    "daily_returns.loc[:, boolean_filter]\n"
   ]
  },
  {
   "cell_type": "code",
   "execution_count": null,
   "id": "facc3b3e-827a-44ed-81e5-bd693efd1ef2",
   "metadata": {},
   "outputs": [],
   "source": []
  }
 ],
 "metadata": {
  "kernelspec": {
   "display_name": "Python 3",
   "language": "python",
   "name": "python3"
  },
  "language_info": {
   "codemirror_mode": {
    "name": "ipython",
    "version": 3
   },
   "file_extension": ".py",
   "mimetype": "text/x-python",
   "name": "python",
   "nbconvert_exporter": "python",
   "pygments_lexer": "ipython3",
   "version": "3.7.10"
  }
 },
 "nbformat": 4,
 "nbformat_minor": 5
}
